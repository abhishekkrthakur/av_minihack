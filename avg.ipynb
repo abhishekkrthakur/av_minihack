{
 "cells": [
  {
   "cell_type": "code",
   "execution_count": 54,
   "metadata": {
    "collapsed": true
   },
   "outputs": [],
   "source": [
    "import pandas as pd\n",
    "import numpy as np"
   ]
  },
  {
   "cell_type": "code",
   "execution_count": 55,
   "metadata": {
    "collapsed": true
   },
   "outputs": [],
   "source": [
    "test = pd.read_csv('test_XaoFywY.csv')"
   ]
  },
  {
   "cell_type": "code",
   "execution_count": 56,
   "metadata": {
    "collapsed": true
   },
   "outputs": [],
   "source": [
    "test_idx = test.Trip_ID.values"
   ]
  },
  {
   "cell_type": "code",
   "execution_count": 57,
   "metadata": {
    "collapsed": true
   },
   "outputs": [],
   "source": [
    "sample = pd.read_csv('Sample_Submission_tdRzAVW.csv')"
   ]
  },
  {
   "cell_type": "code",
   "execution_count": 58,
   "metadata": {
    "collapsed": true
   },
   "outputs": [],
   "source": [
    "p1 = pd.read_csv('nn_preds_model_2.csv')\n",
    "p2 = pd.read_csv('nn_preds_model_4.csv')\n",
    "p3 = pd.read_csv('nn_preds_model_5.csv')\n",
    "p4 = pd.read_csv('nn_preds_model_6.csv')\n",
    "p5 = pd.read_csv('xgb_preds_model_1.csv')"
   ]
  },
  {
   "cell_type": "code",
   "execution_count": 59,
   "metadata": {
    "collapsed": true
   },
   "outputs": [],
   "source": [
    "pp = (3.*(p1.values + p2.values+ p3.values+ p4.values)/4.0+ p5.values)/4.0"
   ]
  },
  {
   "cell_type": "code",
   "execution_count": 60,
   "metadata": {
    "collapsed": false
   },
   "outputs": [
    {
     "data": {
      "text/plain": [
       "array([[ 0.75737879,  0.12450595,  0.11811529],\n",
       "       [ 0.17340173,  0.78940742,  0.03719086],\n",
       "       [ 0.18331149,  0.5879414 ,  0.22874715],\n",
       "       ..., \n",
       "       [ 0.82336849,  0.11003138,  0.06660011],\n",
       "       [ 0.03175622,  0.62547353,  0.34277027],\n",
       "       [ 0.23618867,  0.73515518,  0.02865614]])"
      ]
     },
     "execution_count": 60,
     "metadata": {},
     "output_type": "execute_result"
    }
   ],
   "source": [
    "pp"
   ]
  },
  {
   "cell_type": "code",
   "execution_count": 61,
   "metadata": {
    "collapsed": true
   },
   "outputs": [],
   "source": [
    "sample.Trip_ID = test_idx\n",
    "sample.Surge_Pricing_Type = np.argmax(pp, axis=1) + 1\n",
    "sample.to_csv(\"a7.csv\", index=False)"
   ]
  },
  {
   "cell_type": "code",
   "execution_count": null,
   "metadata": {
    "collapsed": true
   },
   "outputs": [],
   "source": []
  }
 ],
 "metadata": {
  "kernelspec": {
   "display_name": "Python 2",
   "language": "python",
   "name": "python2"
  },
  "language_info": {
   "codemirror_mode": {
    "name": "ipython",
    "version": 2
   },
   "file_extension": ".py",
   "mimetype": "text/x-python",
   "name": "python",
   "nbconvert_exporter": "python",
   "pygments_lexer": "ipython2",
   "version": "2.7.12"
  }
 },
 "nbformat": 4,
 "nbformat_minor": 2
}
